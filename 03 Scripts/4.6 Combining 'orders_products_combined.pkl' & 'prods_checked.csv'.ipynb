{
 "cells": [
  {
   "cell_type": "markdown",
   "id": "3055f525",
   "metadata": {},
   "source": [
    "## Table of Contents:\n",
    "#### 01. Importing Libraries\n",
    "#### 02. Importing the Datasets\n",
    "#### 03. Combining both the Dataframes\n",
    "#### 04. Exporting the combined Dataframe"
   ]
  },
  {
   "cell_type": "markdown",
   "id": "a17646c3",
   "metadata": {},
   "source": [
    "## 01. Importing Libraries"
   ]
  },
  {
   "cell_type": "code",
   "execution_count": 2,
   "id": "c98a6623",
   "metadata": {},
   "outputs": [],
   "source": [
    "# importing the libraries\n",
    "\n",
    "import pandas as pd\n",
    "import numpy as np\n",
    "import os"
   ]
  },
  {
   "cell_type": "markdown",
   "id": "233e3033",
   "metadata": {},
   "source": [
    "## 02. Importing the Datasets"
   ]
  },
  {
   "cell_type": "code",
   "execution_count": 3,
   "id": "382bd027",
   "metadata": {},
   "outputs": [],
   "source": [
    "# defining the path\n",
    "\n",
    "path=r'/Users/sanju/Documents/Jul 2023 Instacart Basket Analysis/02 Data'"
   ]
  },
  {
   "cell_type": "code",
   "execution_count": 4,
   "id": "cee7d128",
   "metadata": {},
   "outputs": [],
   "source": [
    "# importing the 'orders_products_combined.pkl' dataset\n",
    "\n",
    "df_ords_combined=pd.read_pickle(os.path.join(path,'Prepared Data','orders_products_combined.pkl'))"
   ]
  },
  {
   "cell_type": "code",
   "execution_count": 5,
   "id": "dc34ed53",
   "metadata": {},
   "outputs": [],
   "source": [
    "# importing the 'prods_checked.csv'\n",
    "\n",
    "df_prods=pd.read_csv(os.path.join(path,'Prepared Data','prods_checked.csv'),index_col=0)"
   ]
  },
  {
   "cell_type": "markdown",
   "id": "1ac52e6f",
   "metadata": {},
   "source": [
    "## 03. Combining both the Dataframes"
   ]
  },
  {
   "cell_type": "code",
   "execution_count": 6,
   "id": "a4ac9227",
   "metadata": {},
   "outputs": [
    {
     "data": {
      "text/plain": [
       "(32434489, 10)"
      ]
     },
     "execution_count": 6,
     "metadata": {},
     "output_type": "execute_result"
    }
   ],
   "source": [
    "# checking the shape of 'df_ords_combined' dataframe\n",
    "\n",
    "df_ords_combined.shape"
   ]
  },
  {
   "cell_type": "code",
   "execution_count": 7,
   "id": "5b31032e",
   "metadata": {},
   "outputs": [
    {
     "name": "stdout",
     "output_type": "stream",
     "text": [
      "<class 'pandas.core.frame.DataFrame'>\n",
      "Int64Index: 32434489 entries, 0 to 32434488\n",
      "Data columns (total 10 columns):\n",
      " #   Column                  Dtype   \n",
      "---  ------                  -----   \n",
      " 0   order_id                int32   \n",
      " 1   user_id                 int32   \n",
      " 2   order_number            int8    \n",
      " 3   orders_day_of_week      int8    \n",
      " 4   order_hour_of_day       int8    \n",
      " 5   days_since_prior_order  float16 \n",
      " 6   product_id              int32   \n",
      " 7   add_to_cart_order       int32   \n",
      " 8   reordered               int8    \n",
      " 9   _merge                  category\n",
      "dtypes: category(1), float16(1), int32(4), int8(4)\n",
      "memory usage: 958.9 MB\n"
     ]
    }
   ],
   "source": [
    "# checking the data types and memory usage of 'df_ords_combined' dataframe\n",
    "\n",
    "df_ords_combined.info()"
   ]
  },
  {
   "cell_type": "code",
   "execution_count": 8,
   "id": "251a0c1c",
   "metadata": {},
   "outputs": [
    {
     "name": "stdout",
     "output_type": "stream",
     "text": [
      "<class 'pandas.core.frame.DataFrame'>\n",
      "Int64Index: 49672 entries, 0 to 49692\n",
      "Data columns (total 5 columns):\n",
      " #   Column         Non-Null Count  Dtype  \n",
      "---  ------         --------------  -----  \n",
      " 0   product_id     49672 non-null  int64  \n",
      " 1   product_name   49672 non-null  object \n",
      " 2   aisle_id       49672 non-null  int64  \n",
      " 3   department_id  49672 non-null  int64  \n",
      " 4   prices         49672 non-null  float64\n",
      "dtypes: float64(1), int64(3), object(1)\n",
      "memory usage: 2.3+ MB\n"
     ]
    }
   ],
   "source": [
    "# checking the data types and memory usage of 'df_prods' dataframe\n",
    "\n",
    "df_prods.info()"
   ]
  },
  {
   "cell_type": "code",
   "execution_count": 9,
   "id": "51f2f239",
   "metadata": {},
   "outputs": [],
   "source": [
    "# changing the data types of 'df_prods' dataframe\n",
    "\n",
    "df_prods['product_id']=df_prods['product_id'].astype('int32')\n",
    "df_prods['aisle_id']=df_prods['aisle_id'].astype('int16')\n",
    "df_prods['department_id']=df_prods['department_id'].astype('int16')\n",
    "df_prods['prices']=df_prods['prices'].astype('float32')"
   ]
  },
  {
   "cell_type": "code",
   "execution_count": 10,
   "id": "3756ede8",
   "metadata": {},
   "outputs": [
    {
     "name": "stdout",
     "output_type": "stream",
     "text": [
      "<class 'pandas.core.frame.DataFrame'>\n",
      "Int64Index: 49672 entries, 0 to 49692\n",
      "Data columns (total 5 columns):\n",
      " #   Column         Non-Null Count  Dtype  \n",
      "---  ------         --------------  -----  \n",
      " 0   product_id     49672 non-null  int32  \n",
      " 1   product_name   49672 non-null  object \n",
      " 2   aisle_id       49672 non-null  int16  \n",
      " 3   department_id  49672 non-null  int16  \n",
      " 4   prices         49672 non-null  float32\n",
      "dtypes: float32(1), int16(2), int32(1), object(1)\n",
      "memory usage: 1.3+ MB\n"
     ]
    }
   ],
   "source": [
    "# checking the changed datatypes of 'df_prods'\n",
    "\n",
    "df_prods.info()"
   ]
  },
  {
   "cell_type": "code",
   "execution_count": 11,
   "id": "33b54c84",
   "metadata": {},
   "outputs": [],
   "source": [
    "# merging the 'df_ords_combined' and 'df_prods' dataframe using 'product_id' as a key. (Doing an Inner Join)\n",
    "\n",
    "df_merged_large=df_ords_combined.merge(df_prods, on='product_id')"
   ]
  },
  {
   "cell_type": "code",
   "execution_count": 12,
   "id": "b9834caa",
   "metadata": {},
   "outputs": [
    {
     "data": {
      "text/html": [
       "<div>\n",
       "<style scoped>\n",
       "    .dataframe tbody tr th:only-of-type {\n",
       "        vertical-align: middle;\n",
       "    }\n",
       "\n",
       "    .dataframe tbody tr th {\n",
       "        vertical-align: top;\n",
       "    }\n",
       "\n",
       "    .dataframe thead th {\n",
       "        text-align: right;\n",
       "    }\n",
       "</style>\n",
       "<table border=\"1\" class=\"dataframe\">\n",
       "  <thead>\n",
       "    <tr style=\"text-align: right;\">\n",
       "      <th></th>\n",
       "      <th>order_id</th>\n",
       "      <th>user_id</th>\n",
       "      <th>order_number</th>\n",
       "      <th>orders_day_of_week</th>\n",
       "      <th>order_hour_of_day</th>\n",
       "      <th>days_since_prior_order</th>\n",
       "      <th>product_id</th>\n",
       "      <th>add_to_cart_order</th>\n",
       "      <th>reordered</th>\n",
       "      <th>_merge</th>\n",
       "      <th>product_name</th>\n",
       "      <th>aisle_id</th>\n",
       "      <th>department_id</th>\n",
       "      <th>prices</th>\n",
       "    </tr>\n",
       "  </thead>\n",
       "  <tbody>\n",
       "    <tr>\n",
       "      <th>0</th>\n",
       "      <td>2539329</td>\n",
       "      <td>1</td>\n",
       "      <td>1</td>\n",
       "      <td>2</td>\n",
       "      <td>8</td>\n",
       "      <td>NaN</td>\n",
       "      <td>196</td>\n",
       "      <td>1</td>\n",
       "      <td>0</td>\n",
       "      <td>both</td>\n",
       "      <td>Soda</td>\n",
       "      <td>77</td>\n",
       "      <td>7</td>\n",
       "      <td>9.0</td>\n",
       "    </tr>\n",
       "    <tr>\n",
       "      <th>1</th>\n",
       "      <td>2398795</td>\n",
       "      <td>1</td>\n",
       "      <td>2</td>\n",
       "      <td>3</td>\n",
       "      <td>7</td>\n",
       "      <td>15.0</td>\n",
       "      <td>196</td>\n",
       "      <td>1</td>\n",
       "      <td>1</td>\n",
       "      <td>both</td>\n",
       "      <td>Soda</td>\n",
       "      <td>77</td>\n",
       "      <td>7</td>\n",
       "      <td>9.0</td>\n",
       "    </tr>\n",
       "    <tr>\n",
       "      <th>2</th>\n",
       "      <td>473747</td>\n",
       "      <td>1</td>\n",
       "      <td>3</td>\n",
       "      <td>3</td>\n",
       "      <td>12</td>\n",
       "      <td>21.0</td>\n",
       "      <td>196</td>\n",
       "      <td>1</td>\n",
       "      <td>1</td>\n",
       "      <td>both</td>\n",
       "      <td>Soda</td>\n",
       "      <td>77</td>\n",
       "      <td>7</td>\n",
       "      <td>9.0</td>\n",
       "    </tr>\n",
       "    <tr>\n",
       "      <th>3</th>\n",
       "      <td>2254736</td>\n",
       "      <td>1</td>\n",
       "      <td>4</td>\n",
       "      <td>4</td>\n",
       "      <td>7</td>\n",
       "      <td>29.0</td>\n",
       "      <td>196</td>\n",
       "      <td>1</td>\n",
       "      <td>1</td>\n",
       "      <td>both</td>\n",
       "      <td>Soda</td>\n",
       "      <td>77</td>\n",
       "      <td>7</td>\n",
       "      <td>9.0</td>\n",
       "    </tr>\n",
       "    <tr>\n",
       "      <th>4</th>\n",
       "      <td>431534</td>\n",
       "      <td>1</td>\n",
       "      <td>5</td>\n",
       "      <td>4</td>\n",
       "      <td>15</td>\n",
       "      <td>28.0</td>\n",
       "      <td>196</td>\n",
       "      <td>1</td>\n",
       "      <td>1</td>\n",
       "      <td>both</td>\n",
       "      <td>Soda</td>\n",
       "      <td>77</td>\n",
       "      <td>7</td>\n",
       "      <td>9.0</td>\n",
       "    </tr>\n",
       "  </tbody>\n",
       "</table>\n",
       "</div>"
      ],
      "text/plain": [
       "   order_id  user_id  order_number  orders_day_of_week  order_hour_of_day  \\\n",
       "0   2539329        1             1                   2                  8   \n",
       "1   2398795        1             2                   3                  7   \n",
       "2    473747        1             3                   3                 12   \n",
       "3   2254736        1             4                   4                  7   \n",
       "4    431534        1             5                   4                 15   \n",
       "\n",
       "   days_since_prior_order  product_id  add_to_cart_order  reordered _merge  \\\n",
       "0                     NaN         196                  1          0   both   \n",
       "1                    15.0         196                  1          1   both   \n",
       "2                    21.0         196                  1          1   both   \n",
       "3                    29.0         196                  1          1   both   \n",
       "4                    28.0         196                  1          1   both   \n",
       "\n",
       "  product_name  aisle_id  department_id  prices  \n",
       "0         Soda        77              7     9.0  \n",
       "1         Soda        77              7     9.0  \n",
       "2         Soda        77              7     9.0  \n",
       "3         Soda        77              7     9.0  \n",
       "4         Soda        77              7     9.0  "
      ]
     },
     "execution_count": 12,
     "metadata": {},
     "output_type": "execute_result"
    }
   ],
   "source": [
    "# checking the merged dataset\n",
    "\n",
    "df_merged_large.head()"
   ]
  },
  {
   "cell_type": "code",
   "execution_count": 13,
   "id": "72f344bb",
   "metadata": {},
   "outputs": [
    {
     "data": {
      "text/plain": [
       "both          32404859\n",
       "left_only            0\n",
       "right_only           0\n",
       "Name: _merge, dtype: int64"
      ]
     },
     "execution_count": 13,
     "metadata": {},
     "output_type": "execute_result"
    }
   ],
   "source": [
    "# checking the frequency of the '_merge' column\n",
    "\n",
    "df_merged_large['_merge'].value_counts(dropna=False)"
   ]
  },
  {
   "cell_type": "markdown",
   "id": "a8016250",
   "metadata": {},
   "source": [
    "## 04. Exporting the combined Dataframe"
   ]
  },
  {
   "cell_type": "code",
   "execution_count": 15,
   "id": "e59f82c6",
   "metadata": {},
   "outputs": [],
   "source": [
    "# Exporting the 'df_merged_large' dataframe as 'orders_products_merged.pkl'\n",
    "\n",
    "df_merged_large.to_pickle(os.path.join(path,'Prepared Data','orders_products_merged1.pkl'))"
   ]
  },
  {
   "cell_type": "code",
   "execution_count": null,
   "id": "a80d08c2",
   "metadata": {},
   "outputs": [],
   "source": []
  }
 ],
 "metadata": {
  "kernelspec": {
   "display_name": "Python 3 (ipykernel)",
   "language": "python",
   "name": "python3"
  },
  "language_info": {
   "codemirror_mode": {
    "name": "ipython",
    "version": 3
   },
   "file_extension": ".py",
   "mimetype": "text/x-python",
   "name": "python",
   "nbconvert_exporter": "python",
   "pygments_lexer": "ipython3",
   "version": "3.11.3"
  }
 },
 "nbformat": 4,
 "nbformat_minor": 5
}
