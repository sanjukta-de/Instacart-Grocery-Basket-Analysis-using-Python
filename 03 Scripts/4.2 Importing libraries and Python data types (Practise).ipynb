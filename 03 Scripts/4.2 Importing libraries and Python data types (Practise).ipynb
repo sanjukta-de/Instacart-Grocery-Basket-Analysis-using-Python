{
 "cells": [
  {
   "cell_type": "markdown",
   "id": "2f40c96e",
   "metadata": {},
   "source": [
    "## Table of Contents:\n",
    "#### 01. Importing Libraries\n",
    "#### 02. Addition and subtraction of numeric variables\n",
    "#### 03. Division of floating variables\n",
    "#### 04 String Concatenation\n",
    "#### 05. Print a string a 100 times"
   ]
  },
  {
   "cell_type": "markdown",
   "id": "6c25ec09",
   "metadata": {},
   "source": [
    "## 01. Importing Libraries"
   ]
  },
  {
   "cell_type": "code",
   "execution_count": 1,
   "id": "c4c3ab52",
   "metadata": {},
   "outputs": [],
   "source": [
    "# Import Libraries\n",
    "import pandas as pd\n",
    "import numpy as np\n",
    "import os"
   ]
  },
  {
   "cell_type": "markdown",
   "id": "07a6c652",
   "metadata": {},
   "source": [
    "## 02. Addition & Subtraction of numeric variables"
   ]
  },
  {
   "cell_type": "code",
   "execution_count": 1,
   "id": "9efcb963",
   "metadata": {},
   "outputs": [
    {
     "data": {
      "text/plain": [
       "100"
      ]
     },
     "execution_count": 1,
     "metadata": {},
     "output_type": "execute_result"
    }
   ],
   "source": [
    "a=48\n",
    "b=52\n",
    "a+b"
   ]
  },
  {
   "cell_type": "code",
   "execution_count": 2,
   "id": "847ae14c",
   "metadata": {},
   "outputs": [
    {
     "data": {
      "text/plain": [
       "100"
      ]
     },
     "execution_count": 2,
     "metadata": {},
     "output_type": "execute_result"
    }
   ],
   "source": [
    "x=33\n",
    "y=49\n",
    "z=18\n",
    "x+y+z"
   ]
  },
  {
   "cell_type": "code",
   "execution_count": 3,
   "id": "1b03c2f8",
   "metadata": {},
   "outputs": [
    {
     "data": {
      "text/plain": [
       "100"
      ]
     },
     "execution_count": 3,
     "metadata": {},
     "output_type": "execute_result"
    }
   ],
   "source": [
    "m=250\n",
    "n=350\n",
    "n-m"
   ]
  },
  {
   "cell_type": "markdown",
   "id": "f4c9c50b",
   "metadata": {},
   "source": [
    "## 03. Division of floating variables"
   ]
  },
  {
   "cell_type": "code",
   "execution_count": 4,
   "id": "4433305a",
   "metadata": {},
   "outputs": [
    {
     "data": {
      "text/plain": [
       "8.57324673044852"
      ]
     },
     "execution_count": 4,
     "metadata": {},
     "output_type": "execute_result"
    }
   ],
   "source": [
    "a=195.35\n",
    "b=22.786\n",
    "a/b"
   ]
  },
  {
   "cell_type": "markdown",
   "id": "2cb145b1",
   "metadata": {},
   "source": [
    "## 04. String Concatenation"
   ]
  },
  {
   "cell_type": "code",
   "execution_count": 5,
   "id": "2d50b472",
   "metadata": {},
   "outputs": [
    {
     "data": {
      "text/plain": [
       "'sunflower'"
      ]
     },
     "execution_count": 5,
     "metadata": {},
     "output_type": "execute_result"
    }
   ],
   "source": [
    "x='sun'\n",
    "y='flower'\n",
    "x+y"
   ]
  },
  {
   "cell_type": "code",
   "execution_count": 6,
   "id": "b5110f7c",
   "metadata": {},
   "outputs": [
    {
     "data": {
      "text/plain": [
       "'I am a Data Analyst'"
      ]
     },
     "execution_count": 6,
     "metadata": {},
     "output_type": "execute_result"
    }
   ],
   "source": [
    "m='I am '\n",
    "n='a '\n",
    "o='Data Analyst'\n",
    "m+n+o"
   ]
  },
  {
   "cell_type": "code",
   "execution_count": 7,
   "id": "f26befda",
   "metadata": {},
   "outputs": [
    {
     "data": {
      "text/plain": [
       "'Life is beautiful'"
      ]
     },
     "execution_count": 7,
     "metadata": {},
     "output_type": "execute_result"
    }
   ],
   "source": [
    "x='Life'\n",
    "y=' is'\n",
    "z=' beautiful'\n",
    "x+y+z"
   ]
  },
  {
   "cell_type": "markdown",
   "id": "e97180ca",
   "metadata": {},
   "source": [
    "## 05. Print a string a 100 times"
   ]
  },
  {
   "cell_type": "code",
   "execution_count": 8,
   "id": "b41e592e",
   "metadata": {},
   "outputs": [
    {
     "data": {
      "text/plain": [
       "'trusttrusttrusttrusttrusttrusttrusttrusttrusttrusttrusttrusttrusttrusttrusttrusttrusttrusttrusttrusttrusttrusttrusttrusttrusttrusttrusttrusttrusttrusttrusttrusttrusttrusttrusttrusttrusttrusttrusttrusttrusttrusttrusttrusttrusttrusttrusttrusttrusttrusttrusttrusttrusttrusttrusttrusttrusttrusttrusttrusttrusttrusttrusttrusttrusttrusttrusttrusttrusttrusttrusttrusttrusttrusttrusttrusttrusttrusttrusttrusttrusttrusttrusttrusttrusttrusttrusttrusttrusttrusttrusttrusttrusttrusttrusttrusttrusttrusttrusttrust'"
      ]
     },
     "execution_count": 8,
     "metadata": {},
     "output_type": "execute_result"
    }
   ],
   "source": [
    "a='trust'\n",
    "a*100"
   ]
  },
  {
   "cell_type": "code",
   "execution_count": null,
   "id": "606d7e65",
   "metadata": {},
   "outputs": [],
   "source": []
  }
 ],
 "metadata": {
  "kernelspec": {
   "display_name": "Python 3 (ipykernel)",
   "language": "python",
   "name": "python3"
  },
  "language_info": {
   "codemirror_mode": {
    "name": "ipython",
    "version": 3
   },
   "file_extension": ".py",
   "mimetype": "text/x-python",
   "name": "python",
   "nbconvert_exporter": "python",
   "pygments_lexer": "ipython3",
   "version": "3.11.3"
  }
 },
 "nbformat": 4,
 "nbformat_minor": 5
}
